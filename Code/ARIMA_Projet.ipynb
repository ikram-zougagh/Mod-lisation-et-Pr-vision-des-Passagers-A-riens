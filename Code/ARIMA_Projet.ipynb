{
 "cells": [
  {
   "cell_type": "code",
   "execution_count": 1,
   "id": "a5758f9c",
   "metadata": {},
   "outputs": [],
   "source": [
    "import pandas as pd\n",
    "import numpy as np \n",
    "import seaborn as sns\n",
    "import matplotlib.pyplot as plt\n",
    "%matplotlib inline\n",
    "\n",
    "import warnings\n",
    "warnings.filterwarnings('ignore')\n",
    "\n",
    "from statsmodels.tsa.stattools import adfuller\n",
    "from statsmodels.tsa.seasonal import seasonal_decompose\n",
    "from statsmodels.tsa.stattools import acf, pacf\n",
    "from statsmodels.tsa.arima_model import ARIMA"
   ]
  },
  {
   "cell_type": "code",
   "execution_count": 2,
   "id": "3a5f0d10",
   "metadata": {},
   "outputs": [],
   "source": [
    "from pandas import read_csv"
   ]
  },
  {
   "cell_type": "code",
   "execution_count": 3,
   "id": "e9a41514",
   "metadata": {},
   "outputs": [],
   "source": [
    "series = read_csv('AirPassengers.csv', header=0, index_col=0,\n",
    "parse_dates=True).squeeze()"
   ]
  },
  {
   "cell_type": "code",
   "execution_count": 4,
   "id": "e7085a94",
   "metadata": {},
   "outputs": [
    {
     "data": {
      "text/plain": [
       "pandas.core.series.Series"
      ]
     },
     "execution_count": 4,
     "metadata": {},
     "output_type": "execute_result"
    }
   ],
   "source": [
    "type(series)"
   ]
  },
  {
   "cell_type": "code",
   "execution_count": 5,
   "id": "421cd0cd",
   "metadata": {},
   "outputs": [
    {
     "data": {
      "text/plain": [
       "144"
      ]
     },
     "execution_count": 5,
     "metadata": {},
     "output_type": "execute_result"
    }
   ],
   "source": [
    "len(series)"
   ]
  },
  {
   "cell_type": "code",
   "execution_count": 7,
   "id": "ad5d83f0",
   "metadata": {},
   "outputs": [
    {
     "data": {
      "text/plain": [
       "count    144.000000\n",
       "mean     280.298611\n",
       "std      119.966317\n",
       "min      104.000000\n",
       "25%      180.000000\n",
       "50%      265.500000\n",
       "75%      360.500000\n",
       "max      622.000000\n",
       "Name: #Passengers, dtype: float64"
      ]
     },
     "execution_count": 7,
     "metadata": {},
     "output_type": "execute_result"
    }
   ],
   "source": [
    "series.describe()"
   ]
  },
  {
   "cell_type": "markdown",
   "id": "c43fc5ec",
   "metadata": {},
   "source": [
    "# Problem Description"
   ]
  },
  {
   "cell_type": "markdown",
   "id": "54809858",
   "metadata": {},
   "source": [
    "The problem is to predict the number of people fly every month of the year   . The dataset provides Monthly Number of people fliy \n",
    " from 1949  to 1960, or 11 years of data. The values are without  units because they represent humans ,There are no null records present."
   ]
  },
  {
   "cell_type": "code",
   "execution_count": 8,
   "id": "c1ad29ed",
   "metadata": {},
   "outputs": [
    {
     "data": {
      "text/plain": [
       "Month\n",
       "1949-01-01    112\n",
       "1949-02-01    118\n",
       "1949-03-01    132\n",
       "1949-04-01    129\n",
       "1949-05-01    121\n",
       "Name: #Passengers, dtype: int64"
      ]
     },
     "execution_count": 8,
     "metadata": {},
     "output_type": "execute_result"
    }
   ],
   "source": [
    "series.head()"
   ]
  },
  {
   "cell_type": "code",
   "execution_count": 9,
   "id": "a4ff3d3d",
   "metadata": {},
   "outputs": [
    {
     "data": {
      "text/plain": [
       "Month\n",
       "1960-08-01    606\n",
       "1960-09-01    508\n",
       "1960-10-01    461\n",
       "1960-11-01    390\n",
       "1960-12-01    432\n",
       "Name: #Passengers, dtype: int64"
      ]
     },
     "execution_count": 9,
     "metadata": {},
     "output_type": "execute_result"
    }
   ],
   "source": [
    "series.tail()"
   ]
  },
  {
   "cell_type": "markdown",
   "id": "0784bbd2",
   "metadata": {},
   "source": [
    "## Defining a Validation Dataset."
   ]
  },
  {
   "cell_type": "markdown",
   "id": "0f7d382b",
   "metadata": {},
   "source": [
    "The dataset is not current. This means that we cannot easily collect updated data to validate\n",
    "the model. Therefore, we will pretend that it is 1958 and withhold the last 10 years of data\n",
    "from analysis and model selection. This final decade of data will be used to validate the final\n",
    "model. The code below will load the dataset as a Pandas Series and split into two, one for\n",
    "model development (dataset.csv) and the other for validation (validation.csv)."
   ]
  },
  {
   "cell_type": "code",
   "execution_count": 10,
   "id": "c81ee055",
   "metadata": {},
   "outputs": [
    {
     "name": "stdout",
     "output_type": "stream",
     "text": [
      "Dataset 120, Validation 24\n"
     ]
    }
   ],
   "source": [
    "# separate out a validation dataset\n",
    "split_point = len(series) - 24\n",
    "dataset, validation = series[0:split_point], series[split_point:]\n",
    "print('Dataset %d, Validation %d' % (len(dataset), len(validation)))\n",
    "dataset.to_csv('dataset.csv', header=False)\n",
    "validation.to_csv('validation.csv', header=False)"
   ]
  },
  {
   "cell_type": "code",
   "execution_count": 11,
   "id": "8320d586",
   "metadata": {},
   "outputs": [],
   "source": [
    "from sklearn.metrics import mean_squared_error\n",
    "from math import sqrt\n",
    "\n",
    "def walk_forward_validation(train, test):\n",
    "    history = [x for x in train]\n",
    "    predictions = list()\n",
    "\n",
    "    for i in range(len(test)):\n",
    "        # predict\n",
    "        yhat = history[-1]\n",
    "        predictions.append(yhat)\n",
    "\n",
    "        # observation\n",
    "        obs = test[i]\n",
    "        history.append(obs)\n",
    "        print('> Predicted=%.3f, Expected=%.3f' % (yhat, obs))\n",
    "\n",
    "    # Calculate RMSE\n",
    "    rmse = sqrt(mean_squared_error(test, predictions))\n",
    "    print('RMSE: %.3f' % rmse)\n",
    "\n",
    "    return rmse"
   ]
  },
  {
   "cell_type": "markdown",
   "id": "e0ab4d72",
   "metadata": {},
   "source": [
    "# Persistence"
   ]
  },
  {
   "cell_type": "markdown",
   "id": "869d15ec",
   "metadata": {},
   "source": [
    "The first step before getting bogged down in data analysis and modeling is to establish a baseline\n",
    "of performance. This will provide both a template for evaluating models using the proposed\n",
    "test harness and a performance measure by which all more elaborate predictive models can be\n",
    "compared. The baseline prediction for time series forecasting is called the naive forecast, or\n",
    "persistence. This is where the observation from the previous time step is used as the prediction\n",
    "for the observation at the next time step. We can plug this directly into the test harness defined\n",
    "in the previous section. The complete code listing is provided below."
   ]
  },
  {
   "cell_type": "code",
   "execution_count": 90,
   "id": "b8ddcb9b",
   "metadata": {},
   "outputs": [],
   "source": [
    "def evaluate_persistence_model(train, test):\n",
    "    # Walk-forward validation\n",
    "    history = [x for x in train]\n",
    "    predictions = list()\n",
    "\n",
    "    for i in range(len(test)):\n",
    "        # Predict\n",
    "        yhat = history[-1]\n",
    "        predictions.append(yhat)\n",
    "        \n",
    "        # Observation\n",
    "        obs = test[i]\n",
    "        history.append(obs)\n",
    "        \n",
    "        print('> Predicted=%.3f, Expected=%.3f' % (yhat, obs))\n",
    "\n",
    "    # Report performance\n",
    "    rmse = sqrt(mean_squared_error(test, predictions))\n",
    "    print('RMSE: %.3f' % rmse)\n",
    "\n",
    "    return rmse"
   ]
  },
  {
   "cell_type": "markdown",
   "id": "5f88674f",
   "metadata": {},
   "source": [
    "# Data Analysis"
   ]
  },
  {
   "cell_type": "markdown",
   "id": "20b96e06",
   "metadata": {},
   "source": [
    "## Summary Statistics "
   ]
  },
  {
   "cell_type": "code",
   "execution_count": 13,
   "id": "e31b4424",
   "metadata": {},
   "outputs": [],
   "source": [
    "# summary statistics of time series\n",
    "from pandas import read_csv\n",
    "series = read_csv('dataset.csv', header=None, index_col=0, parse_dates=True).squeeze()"
   ]
  },
  {
   "cell_type": "code",
   "execution_count": 14,
   "id": "02b70390",
   "metadata": {},
   "outputs": [
    {
     "data": {
      "text/plain": [
       "count    120.000000\n",
       "mean     245.908333\n",
       "std       94.942087\n",
       "min      104.000000\n",
       "25%      170.750000\n",
       "50%      233.500000\n",
       "75%      313.500000\n",
       "max      505.000000\n",
       "Name: 1, dtype: float64"
      ]
     },
     "execution_count": 14,
     "metadata": {},
     "output_type": "execute_result"
    }
   ],
   "source": [
    "series.describe()"
   ]
  },
  {
   "cell_type": "markdown",
   "id": "951e8ead",
   "metadata": {},
   "source": [
    "## Line Plot"
   ]
  },
  {
   "cell_type": "code",
   "execution_count": 15,
   "id": "5528c949",
   "metadata": {},
   "outputs": [
    {
     "data": {
      "image/png": "[encoded data removed]",
      "text/plain": [
       "<Figure size 640x480 with 1 Axes>"
      ]
     },
     "metadata": {},
     "output_type": "display_data"
    }
   ],
   "source": [
    "from matplotlib import pyplot\n",
    "series.plot()\n",
    "pyplot.show()"
   ]
  },
  {
   "cell_type": "markdown",
   "id": "07ff714c",
   "metadata": {},
   "source": [
    "## Density Plot"
   ]
  },
  {
   "cell_type": "code",
   "execution_count": 16,
   "id": "188b5905",
   "metadata": {},
   "outputs": [
    {
     "data": {
      "image/png": "[encoded data removed]",
      "text/plain": [
       "<Figure size 640x480 with 2 Axes>"
      ]
     },
     "metadata": {},
     "output_type": "display_data"
    }
   ],
   "source": [
    "pyplot.figure(1)\n",
    "pyplot.subplot(211)\n",
    "series.hist()\n",
    "pyplot.subplot(212)\n",
    "series.plot(kind='kde')\n",
    "pyplot.show()"
   ]
  },
  {
   "cell_type": "markdown",
   "id": "7d6d3d37",
   "metadata": {},
   "source": [
    "## Box and Whisker Plots "
   ]
  },
  {
   "cell_type": "code",
   "execution_count": 17,
   "id": "72407907",
   "metadata": {},
   "outputs": [
    {
     "data": {
      "image/png": "[encoded data removed]",
      "text/plain": [
       "<Figure size 640x480 with 1 Axes>"
      ]
     },
     "metadata": {},
     "output_type": "display_data"
    }
   ],
   "source": [
    "from pandas import DataFrame\n",
    "from pandas import Grouper\n",
    "groups = series['1949':'1958'].groupby(Grouper(freq='A'))\n",
    "years = DataFrame()\n",
    "for name, group in groups:\n",
    " years[name.year] = group.values\n",
    "years.boxplot()\n",
    "pyplot.show()"
   ]
  },
  {
   "cell_type": "markdown",
   "id": "9d81df92",
   "metadata": {},
   "source": [
    "# ARIMA Models"
   ]
  },
  {
   "cell_type": "markdown",
   "id": "b672afa4",
   "metadata": {},
   "source": [
    "## Manually Configured ARIMA"
   ]
  },
  {
   "cell_type": "code",
   "execution_count": 18,
   "id": "d8a07a11",
   "metadata": {},
   "outputs": [],
   "source": [
    "# statistical test for the stationarity of the time series\n",
    "from pandas import read_csv\n",
    "from pandas import Series\n",
    "from statsmodels.tsa.stattools import adfuller"
   ]
  },
  {
   "cell_type": "code",
   "execution_count": 19,
   "id": "236f424e",
   "metadata": {},
   "outputs": [],
   "source": [
    "# create a differenced time series\n",
    "def difference(dataset):\n",
    " diff = list()\n",
    " for i in range(1, len(dataset)):\n",
    "  value = dataset[i] - dataset[i - 1]\n",
    "  diff.append(value)\n",
    " return Series(diff)"
   ]
  },
  {
   "cell_type": "code",
   "execution_count": 20,
   "id": "04806487",
   "metadata": {},
   "outputs": [],
   "source": [
    "X = series.values"
   ]
  },
  {
   "cell_type": "code",
   "execution_count": 21,
   "id": "37400e9f",
   "metadata": {},
   "outputs": [],
   "source": [
    "# difference data\n",
    "stationary = difference(X)\n",
    "stationary.index = series.index[1:]"
   ]
  },
  {
   "cell_type": "code",
   "execution_count": 22,
   "id": "2d9a0abe",
   "metadata": {},
   "outputs": [
    {
     "name": "stdout",
     "output_type": "stream",
     "text": [
      "ADF Statistic: -2.164143\n",
      "p-value: 0.219516\n",
      "Critical Values:\n",
      "\t1%: -3.494\n",
      "\t5%: -2.889\n",
      "\t10%: -2.582\n"
     ]
    }
   ],
   "source": [
    "# check if stationary\n",
    "result = adfuller(stationary)\n",
    "print('ADF Statistic: %f' % result[0])\n",
    "print('p-value: %f' % result[1])\n",
    "print('Critical Values:')\n",
    "for key, value in result[4].items():\n",
    " print('\\t%s: %.3f' % (key, value))"
   ]
  },
  {
   "cell_type": "code",
   "execution_count": 23,
   "id": "a433c780",
   "metadata": {},
   "outputs": [],
   "source": [
    "stationary = difference(difference(X))"
   ]
  },
  {
   "cell_type": "code",
   "execution_count": 24,
   "id": "62e7bc49",
   "metadata": {},
   "outputs": [
    {
     "name": "stdout",
     "output_type": "stream",
     "text": [
      "ADF Statistic: -13.947364\n",
      "p-value: 0.000000\n",
      "Critical Values:\n",
      "\t1%: -3.494\n",
      "\t5%: -2.889\n",
      "\t10%: -2.582\n"
     ]
    }
   ],
   "source": [
    "# check if stationary\n",
    "result = adfuller(stationary)\n",
    "print('ADF Statistic: %f' % result[0])\n",
    "print('p-value: %f' % result[1])\n",
    "print('Critical Values:')\n",
    "for key, value in result[4].items():\n",
    " print('\\t%s: %.3f' % (key, value))"
   ]
  },
  {
   "cell_type": "code",
   "execution_count": 25,
   "id": "25ed7f6c",
   "metadata": {},
   "outputs": [],
   "source": [
    "# save\n",
    "stationary.to_csv('stationary.csv', header=False)"
   ]
  },
  {
   "cell_type": "code",
   "execution_count": 26,
   "id": "450c2a39",
   "metadata": {},
   "outputs": [
    {
     "data": {
      "text/plain": [
       "0        8\n",
       "1      -17\n",
       "2       -5\n",
       "3       22\n",
       "4       -1\n",
       "      ... \n",
       "113    -42\n",
       "114   -115\n",
       "115     56\n",
       "116     -4\n",
       "117     76\n",
       "Length: 118, dtype: int64"
      ]
     },
     "execution_count": 26,
     "metadata": {},
     "output_type": "execute_result"
    }
   ],
   "source": [
    "stationary"
   ]
  },
  {
   "cell_type": "code",
   "execution_count": 27,
   "id": "9b101ab2",
   "metadata": {},
   "outputs": [],
   "source": [
    "# ACF and PACF plots of the time series\n",
    "from pandas import read_csv\n",
    "from statsmodels.graphics.tsaplots import plot_acf\n",
    "from statsmodels.graphics.tsaplots import plot_pacf\n",
    "from matplotlib import pyplot"
   ]
  },
  {
   "cell_type": "code",
   "execution_count": 28,
   "id": "b8c226f9",
   "metadata": {},
   "outputs": [
    {
     "data": {
      "image/png": "[encoded data removed]",
      "text/plain": [
       "<Figure size 640x480 with 2 Axes>"
      ]
     },
     "metadata": {},
     "output_type": "display_data"
    }
   ],
   "source": [
    "pyplot.figure()\n",
    "pyplot.subplot(211)\n",
    "plot_acf(series,ax=pyplot.gca())\n",
    "pyplot.subplot(212)\n",
    "plot_pacf(series,ax=pyplot.gca())\n",
    "pyplot.show()"
   ]
  },
  {
   "cell_type": "code",
   "execution_count": 29,
   "id": "95f33a74",
   "metadata": {},
   "outputs": [],
   "source": [
    "# evaluate manually configured ARIMA model\n",
    "from pandas import read_csv\n",
    "from sklearn.metrics import mean_squared_error\n",
    "from statsmodels.tsa.arima.model import ARIMA\n",
    "from math import sqrt"
   ]
  },
  {
   "cell_type": "code",
   "execution_count": 30,
   "id": "c66c4374",
   "metadata": {},
   "outputs": [],
   "source": [
    "X = X.astype('float32')\n",
    "train_size = int(len(X) * 0.50)\n",
    "train, test = X[0:train_size], X[train_size:]"
   ]
  },
  {
   "cell_type": "code",
   "execution_count": 31,
   "id": "cc665df0",
   "metadata": {},
   "outputs": [
    {
     "name": "stderr",
     "output_type": "stream",
     "text": [
      "C:\\Users\\DELL\\anaconda3\\Lib\\site-packages\\statsmodels\\base\\model.py:607: ConvergenceWarning: Maximum Likelihood optimization failed to converge. Check mle_retvals\n",
      "  warnings.warn(\"Maximum Likelihood optimization failed to \"\n"
     ]
    },
    {
     "name": "stdout",
     "output_type": "stream",
     "text": [
      ">Predicted=217.869, Expected=204.000\n"
     ]
    },
    {
     "name": "stderr",
     "output_type": "stream",
     "text": [
      "C:\\Users\\DELL\\anaconda3\\Lib\\site-packages\\statsmodels\\base\\model.py:607: ConvergenceWarning: Maximum Likelihood optimization failed to converge. Check mle_retvals\n",
      "  warnings.warn(\"Maximum Likelihood optimization failed to \"\n"
     ]
    },
    {
     "name": "stdout",
     "output_type": "stream",
     "text": [
      ">Predicted=207.187, Expected=188.000\n"
     ]
    },
    {
     "name": "stderr",
     "output_type": "stream",
     "text": [
      "C:\\Users\\DELL\\anaconda3\\Lib\\site-packages\\statsmodels\\base\\model.py:607: ConvergenceWarning: Maximum Likelihood optimization failed to converge. Check mle_retvals\n",
      "  warnings.warn(\"Maximum Likelihood optimization failed to \"\n"
     ]
    },
    {
     "name": "stdout",
     "output_type": "stream",
     "text": [
      ">Predicted=223.627, Expected=235.000\n"
     ]
    },
    {
     "name": "stderr",
     "output_type": "stream",
     "text": [
      "C:\\Users\\DELL\\anaconda3\\Lib\\site-packages\\statsmodels\\base\\model.py:607: ConvergenceWarning: Maximum Likelihood optimization failed to converge. Check mle_retvals\n",
      "  warnings.warn(\"Maximum Likelihood optimization failed to \"\n"
     ]
    },
    {
     "name": "stdout",
     "output_type": "stream",
     "text": [
      ">Predicted=238.439, Expected=227.000\n"
     ]
    },
    {
     "name": "stderr",
     "output_type": "stream",
     "text": [
      "C:\\Users\\DELL\\anaconda3\\Lib\\site-packages\\statsmodels\\base\\model.py:607: ConvergenceWarning: Maximum Likelihood optimization failed to converge. Check mle_retvals\n",
      "  warnings.warn(\"Maximum Likelihood optimization failed to \"\n"
     ]
    },
    {
     "name": "stdout",
     "output_type": "stream",
     "text": [
      ">Predicted=232.650, Expected=234.000\n"
     ]
    },
    {
     "name": "stderr",
     "output_type": "stream",
     "text": [
      "C:\\Users\\DELL\\anaconda3\\Lib\\site-packages\\statsmodels\\base\\model.py:607: ConvergenceWarning: Maximum Likelihood optimization failed to converge. Check mle_retvals\n",
      "  warnings.warn(\"Maximum Likelihood optimization failed to \"\n"
     ]
    },
    {
     "name": "stdout",
     "output_type": "stream",
     "text": [
      ">Predicted=240.593, Expected=264.000\n"
     ]
    },
    {
     "name": "stderr",
     "output_type": "stream",
     "text": [
      "C:\\Users\\DELL\\anaconda3\\Lib\\site-packages\\statsmodels\\base\\model.py:607: ConvergenceWarning: Maximum Likelihood optimization failed to converge. Check mle_retvals\n",
      "  warnings.warn(\"Maximum Likelihood optimization failed to \"\n"
     ]
    },
    {
     "name": "stdout",
     "output_type": "stream",
     "text": [
      ">Predicted=281.779, Expected=302.000\n"
     ]
    },
    {
     "name": "stderr",
     "output_type": "stream",
     "text": [
      "C:\\Users\\DELL\\anaconda3\\Lib\\site-packages\\statsmodels\\base\\model.py:607: ConvergenceWarning: Maximum Likelihood optimization failed to converge. Check mle_retvals\n",
      "  warnings.warn(\"Maximum Likelihood optimization failed to \"\n"
     ]
    },
    {
     "name": "stdout",
     "output_type": "stream",
     "text": [
      ">Predicted=307.327, Expected=293.000\n"
     ]
    },
    {
     "name": "stderr",
     "output_type": "stream",
     "text": [
      "C:\\Users\\DELL\\anaconda3\\Lib\\site-packages\\statsmodels\\base\\model.py:607: ConvergenceWarning: Maximum Likelihood optimization failed to converge. Check mle_retvals\n",
      "  warnings.warn(\"Maximum Likelihood optimization failed to \"\n"
     ]
    },
    {
     "name": "stdout",
     "output_type": "stream",
     "text": [
      ">Predicted=265.311, Expected=259.000\n"
     ]
    },
    {
     "name": "stderr",
     "output_type": "stream",
     "text": [
      "C:\\Users\\DELL\\anaconda3\\Lib\\site-packages\\statsmodels\\base\\model.py:607: ConvergenceWarning: Maximum Likelihood optimization failed to converge. Check mle_retvals\n",
      "  warnings.warn(\"Maximum Likelihood optimization failed to \"\n"
     ]
    },
    {
     "name": "stdout",
     "output_type": "stream",
     "text": [
      ">Predicted=235.450, Expected=229.000\n"
     ]
    },
    {
     "name": "stderr",
     "output_type": "stream",
     "text": [
      "C:\\Users\\DELL\\anaconda3\\Lib\\site-packages\\statsmodels\\base\\model.py:607: ConvergenceWarning: Maximum Likelihood optimization failed to converge. Check mle_retvals\n",
      "  warnings.warn(\"Maximum Likelihood optimization failed to \"\n"
     ]
    },
    {
     "name": "stdout",
     "output_type": "stream",
     "text": [
      ">Predicted=205.945, Expected=203.000\n"
     ]
    },
    {
     "name": "stderr",
     "output_type": "stream",
     "text": [
      "C:\\Users\\DELL\\anaconda3\\Lib\\site-packages\\statsmodels\\base\\model.py:607: ConvergenceWarning: Maximum Likelihood optimization failed to converge. Check mle_retvals\n",
      "  warnings.warn(\"Maximum Likelihood optimization failed to \"\n"
     ]
    },
    {
     "name": "stdout",
     "output_type": "stream",
     "text": [
      ">Predicted=221.054, Expected=229.000\n"
     ]
    },
    {
     "name": "stderr",
     "output_type": "stream",
     "text": [
      "C:\\Users\\DELL\\anaconda3\\Lib\\site-packages\\statsmodels\\base\\model.py:607: ConvergenceWarning: Maximum Likelihood optimization failed to converge. Check mle_retvals\n",
      "  warnings.warn(\"Maximum Likelihood optimization failed to \"\n"
     ]
    },
    {
     "name": "stdout",
     "output_type": "stream",
     "text": [
      ">Predicted=229.635, Expected=242.000\n"
     ]
    },
    {
     "name": "stderr",
     "output_type": "stream",
     "text": [
      "C:\\Users\\DELL\\anaconda3\\Lib\\site-packages\\statsmodels\\base\\model.py:607: ConvergenceWarning: Maximum Likelihood optimization failed to converge. Check mle_retvals\n",
      "  warnings.warn(\"Maximum Likelihood optimization failed to \"\n"
     ]
    },
    {
     "name": "stdout",
     "output_type": "stream",
     "text": [
      ">Predicted=223.920, Expected=233.000\n"
     ]
    },
    {
     "name": "stderr",
     "output_type": "stream",
     "text": [
      "C:\\Users\\DELL\\anaconda3\\Lib\\site-packages\\statsmodels\\base\\model.py:607: ConvergenceWarning: Maximum Likelihood optimization failed to converge. Check mle_retvals\n",
      "  warnings.warn(\"Maximum Likelihood optimization failed to \"\n"
     ]
    },
    {
     "name": "stdout",
     "output_type": "stream",
     "text": [
      ">Predicted=262.715, Expected=267.000\n"
     ]
    },
    {
     "name": "stderr",
     "output_type": "stream",
     "text": [
      "C:\\Users\\DELL\\anaconda3\\Lib\\site-packages\\statsmodels\\base\\model.py:607: ConvergenceWarning: Maximum Likelihood optimization failed to converge. Check mle_retvals\n",
      "  warnings.warn(\"Maximum Likelihood optimization failed to \"\n"
     ]
    },
    {
     "name": "stdout",
     "output_type": "stream",
     "text": [
      ">Predicted=263.942, Expected=269.000\n"
     ]
    },
    {
     "name": "stderr",
     "output_type": "stream",
     "text": [
      "C:\\Users\\DELL\\anaconda3\\Lib\\site-packages\\statsmodels\\base\\model.py:607: ConvergenceWarning: Maximum Likelihood optimization failed to converge. Check mle_retvals\n",
      "  warnings.warn(\"Maximum Likelihood optimization failed to \"\n"
     ]
    },
    {
     "name": "stdout",
     "output_type": "stream",
     "text": [
      ">Predicted=267.209, Expected=270.000\n"
     ]
    },
    {
     "name": "stderr",
     "output_type": "stream",
     "text": [
      "C:\\Users\\DELL\\anaconda3\\Lib\\site-packages\\statsmodels\\base\\model.py:607: ConvergenceWarning: Maximum Likelihood optimization failed to converge. Check mle_retvals\n",
      "  warnings.warn(\"Maximum Likelihood optimization failed to \"\n"
     ]
    },
    {
     "name": "stdout",
     "output_type": "stream",
     "text": [
      ">Predicted=302.036, Expected=315.000\n"
     ]
    },
    {
     "name": "stderr",
     "output_type": "stream",
     "text": [
      "C:\\Users\\DELL\\anaconda3\\Lib\\site-packages\\statsmodels\\base\\model.py:607: ConvergenceWarning: Maximum Likelihood optimization failed to converge. Check mle_retvals\n",
      "  warnings.warn(\"Maximum Likelihood optimization failed to \"\n"
     ]
    },
    {
     "name": "stdout",
     "output_type": "stream",
     "text": [
      ">Predicted=337.767, Expected=364.000\n"
     ]
    },
    {
     "name": "stderr",
     "output_type": "stream",
     "text": [
      "C:\\Users\\DELL\\anaconda3\\Lib\\site-packages\\statsmodels\\base\\model.py:607: ConvergenceWarning: Maximum Likelihood optimization failed to converge. Check mle_retvals\n",
      "  warnings.warn(\"Maximum Likelihood optimization failed to \"\n"
     ]
    },
    {
     "name": "stdout",
     "output_type": "stream",
     "text": [
      ">Predicted=353.190, Expected=347.000\n"
     ]
    },
    {
     "name": "stderr",
     "output_type": "stream",
     "text": [
      "C:\\Users\\DELL\\anaconda3\\Lib\\site-packages\\statsmodels\\base\\model.py:607: ConvergenceWarning: Maximum Likelihood optimization failed to converge. Check mle_retvals\n",
      "  warnings.warn(\"Maximum Likelihood optimization failed to \"\n"
     ]
    },
    {
     "name": "stdout",
     "output_type": "stream",
     "text": [
      ">Predicted=307.543, Expected=312.000\n"
     ]
    },
    {
     "name": "stderr",
     "output_type": "stream",
     "text": [
      "C:\\Users\\DELL\\anaconda3\\Lib\\site-packages\\statsmodels\\base\\model.py:607: ConvergenceWarning: Maximum Likelihood optimization failed to converge. Check mle_retvals\n",
      "  warnings.warn(\"Maximum Likelihood optimization failed to \"\n"
     ]
    },
    {
     "name": "stdout",
     "output_type": "stream",
     "text": [
      ">Predicted=282.930, Expected=274.000\n"
     ]
    },
    {
     "name": "stderr",
     "output_type": "stream",
     "text": [
      "C:\\Users\\DELL\\anaconda3\\Lib\\site-packages\\statsmodels\\base\\model.py:607: ConvergenceWarning: Maximum Likelihood optimization failed to converge. Check mle_retvals\n",
      "  warnings.warn(\"Maximum Likelihood optimization failed to \"\n"
     ]
    },
    {
     "name": "stdout",
     "output_type": "stream",
     "text": [
      ">Predicted=248.339, Expected=237.000\n"
     ]
    },
    {
     "name": "stderr",
     "output_type": "stream",
     "text": [
      "C:\\Users\\DELL\\anaconda3\\Lib\\site-packages\\statsmodels\\base\\model.py:607: ConvergenceWarning: Maximum Likelihood optimization failed to converge. Check mle_retvals\n",
      "  warnings.warn(\"Maximum Likelihood optimization failed to \"\n"
     ]
    },
    {
     "name": "stdout",
     "output_type": "stream",
     "text": [
      ">Predicted=259.019, Expected=278.000\n"
     ]
    },
    {
     "name": "stderr",
     "output_type": "stream",
     "text": [
      "C:\\Users\\DELL\\anaconda3\\Lib\\site-packages\\statsmodels\\base\\model.py:607: ConvergenceWarning: Maximum Likelihood optimization failed to converge. Check mle_retvals\n",
      "  warnings.warn(\"Maximum Likelihood optimization failed to \"\n"
     ]
    },
    {
     "name": "stdout",
     "output_type": "stream",
     "text": [
      ">Predicted=286.326, Expected=284.000\n"
     ]
    },
    {
     "name": "stderr",
     "output_type": "stream",
     "text": [
      "C:\\Users\\DELL\\anaconda3\\Lib\\site-packages\\statsmodels\\base\\model.py:607: ConvergenceWarning: Maximum Likelihood optimization failed to converge. Check mle_retvals\n",
      "  warnings.warn(\"Maximum Likelihood optimization failed to \"\n"
     ]
    },
    {
     "name": "stdout",
     "output_type": "stream",
     "text": [
      ">Predicted=276.523, Expected=277.000\n"
     ]
    },
    {
     "name": "stderr",
     "output_type": "stream",
     "text": [
      "C:\\Users\\DELL\\anaconda3\\Lib\\site-packages\\statsmodels\\base\\model.py:607: ConvergenceWarning: Maximum Likelihood optimization failed to converge. Check mle_retvals\n",
      "  warnings.warn(\"Maximum Likelihood optimization failed to \"\n"
     ]
    },
    {
     "name": "stdout",
     "output_type": "stream",
     "text": [
      ">Predicted=296.658, Expected=317.000\n"
     ]
    },
    {
     "name": "stderr",
     "output_type": "stream",
     "text": [
      "C:\\Users\\DELL\\anaconda3\\Lib\\site-packages\\statsmodels\\base\\model.py:607: ConvergenceWarning: Maximum Likelihood optimization failed to converge. Check mle_retvals\n",
      "  warnings.warn(\"Maximum Likelihood optimization failed to \"\n"
     ]
    },
    {
     "name": "stdout",
     "output_type": "stream",
     "text": [
      ">Predicted=322.421, Expected=313.000\n"
     ]
    },
    {
     "name": "stderr",
     "output_type": "stream",
     "text": [
      "C:\\Users\\DELL\\anaconda3\\Lib\\site-packages\\statsmodels\\base\\model.py:607: ConvergenceWarning: Maximum Likelihood optimization failed to converge. Check mle_retvals\n",
      "  warnings.warn(\"Maximum Likelihood optimization failed to \"\n"
     ]
    },
    {
     "name": "stdout",
     "output_type": "stream",
     "text": [
      ">Predicted=312.368, Expected=318.000\n"
     ]
    },
    {
     "name": "stderr",
     "output_type": "stream",
     "text": [
      "C:\\Users\\DELL\\anaconda3\\Lib\\site-packages\\statsmodels\\base\\model.py:607: ConvergenceWarning: Maximum Likelihood optimization failed to converge. Check mle_retvals\n",
      "  warnings.warn(\"Maximum Likelihood optimization failed to \"\n"
     ]
    },
    {
     "name": "stdout",
     "output_type": "stream",
     "text": [
      ">Predicted=361.740, Expected=374.000\n"
     ]
    },
    {
     "name": "stderr",
     "output_type": "stream",
     "text": [
      "C:\\Users\\DELL\\anaconda3\\Lib\\site-packages\\statsmodels\\base\\model.py:607: ConvergenceWarning: Maximum Likelihood optimization failed to converge. Check mle_retvals\n",
      "  warnings.warn(\"Maximum Likelihood optimization failed to \"\n"
     ]
    },
    {
     "name": "stdout",
     "output_type": "stream",
     "text": [
      ">Predicted=413.268, Expected=413.000\n"
     ]
    },
    {
     "name": "stderr",
     "output_type": "stream",
     "text": [
      "C:\\Users\\DELL\\anaconda3\\Lib\\site-packages\\statsmodels\\base\\model.py:607: ConvergenceWarning: Maximum Likelihood optimization failed to converge. Check mle_retvals\n",
      "  warnings.warn(\"Maximum Likelihood optimization failed to \"\n"
     ]
    },
    {
     "name": "stdout",
     "output_type": "stream",
     "text": [
      ">Predicted=395.442, Expected=405.000\n"
     ]
    },
    {
     "name": "stderr",
     "output_type": "stream",
     "text": [
      "C:\\Users\\DELL\\anaconda3\\Lib\\site-packages\\statsmodels\\base\\model.py:607: ConvergenceWarning: Maximum Likelihood optimization failed to converge. Check mle_retvals\n",
      "  warnings.warn(\"Maximum Likelihood optimization failed to \"\n"
     ]
    },
    {
     "name": "stdout",
     "output_type": "stream",
     "text": [
      ">Predicted=367.042, Expected=355.000\n"
     ]
    },
    {
     "name": "stderr",
     "output_type": "stream",
     "text": [
      "C:\\Users\\DELL\\anaconda3\\Lib\\site-packages\\statsmodels\\base\\model.py:607: ConvergenceWarning: Maximum Likelihood optimization failed to converge. Check mle_retvals\n",
      "  warnings.warn(\"Maximum Likelihood optimization failed to \"\n"
     ]
    },
    {
     "name": "stdout",
     "output_type": "stream",
     "text": [
      ">Predicted=318.840, Expected=306.000\n"
     ]
    },
    {
     "name": "stderr",
     "output_type": "stream",
     "text": [
      "C:\\Users\\DELL\\anaconda3\\Lib\\site-packages\\statsmodels\\base\\model.py:607: ConvergenceWarning: Maximum Likelihood optimization failed to converge. Check mle_retvals\n",
      "  warnings.warn(\"Maximum Likelihood optimization failed to \"\n"
     ]
    },
    {
     "name": "stdout",
     "output_type": "stream",
     "text": [
      ">Predicted=276.159, Expected=271.000\n"
     ]
    },
    {
     "name": "stderr",
     "output_type": "stream",
     "text": [
      "C:\\Users\\DELL\\anaconda3\\Lib\\site-packages\\statsmodels\\base\\model.py:607: ConvergenceWarning: Maximum Likelihood optimization failed to converge. Check mle_retvals\n",
      "  warnings.warn(\"Maximum Likelihood optimization failed to \"\n"
     ]
    },
    {
     "name": "stdout",
     "output_type": "stream",
     "text": [
      ">Predicted=308.821, Expected=306.000\n"
     ]
    },
    {
     "name": "stderr",
     "output_type": "stream",
     "text": [
      "C:\\Users\\DELL\\anaconda3\\Lib\\site-packages\\statsmodels\\base\\model.py:607: ConvergenceWarning: Maximum Likelihood optimization failed to converge. Check mle_retvals\n",
      "  warnings.warn(\"Maximum Likelihood optimization failed to \"\n"
     ]
    },
    {
     "name": "stdout",
     "output_type": "stream",
     "text": [
      ">Predicted=318.181, Expected=315.000\n"
     ]
    },
    {
     "name": "stderr",
     "output_type": "stream",
     "text": [
      "C:\\Users\\DELL\\anaconda3\\Lib\\site-packages\\statsmodels\\base\\model.py:607: ConvergenceWarning: Maximum Likelihood optimization failed to converge. Check mle_retvals\n",
      "  warnings.warn(\"Maximum Likelihood optimization failed to \"\n"
     ]
    },
    {
     "name": "stdout",
     "output_type": "stream",
     "text": [
      ">Predicted=306.612, Expected=301.000\n"
     ]
    },
    {
     "name": "stderr",
     "output_type": "stream",
     "text": [
      "C:\\Users\\DELL\\anaconda3\\Lib\\site-packages\\statsmodels\\base\\model.py:607: ConvergenceWarning: Maximum Likelihood optimization failed to converge. Check mle_retvals\n",
      "  warnings.warn(\"Maximum Likelihood optimization failed to \"\n"
     ]
    },
    {
     "name": "stdout",
     "output_type": "stream",
     "text": [
      ">Predicted=337.091, Expected=356.000\n"
     ]
    },
    {
     "name": "stderr",
     "output_type": "stream",
     "text": [
      "C:\\Users\\DELL\\anaconda3\\Lib\\site-packages\\statsmodels\\base\\model.py:607: ConvergenceWarning: Maximum Likelihood optimization failed to converge. Check mle_retvals\n",
      "  warnings.warn(\"Maximum Likelihood optimization failed to \"\n"
     ]
    },
    {
     "name": "stdout",
     "output_type": "stream",
     "text": [
      ">Predicted=352.230, Expected=348.000\n"
     ]
    },
    {
     "name": "stderr",
     "output_type": "stream",
     "text": [
      "C:\\Users\\DELL\\anaconda3\\Lib\\site-packages\\statsmodels\\base\\model.py:607: ConvergenceWarning: Maximum Likelihood optimization failed to converge. Check mle_retvals\n",
      "  warnings.warn(\"Maximum Likelihood optimization failed to \"\n"
     ]
    },
    {
     "name": "stdout",
     "output_type": "stream",
     "text": [
      ">Predicted=356.107, Expected=355.000\n"
     ]
    },
    {
     "name": "stderr",
     "output_type": "stream",
     "text": [
      "C:\\Users\\DELL\\anaconda3\\Lib\\site-packages\\statsmodels\\base\\model.py:607: ConvergenceWarning: Maximum Likelihood optimization failed to converge. Check mle_retvals\n",
      "  warnings.warn(\"Maximum Likelihood optimization failed to \"\n"
     ]
    },
    {
     "name": "stdout",
     "output_type": "stream",
     "text": [
      ">Predicted=408.355, Expected=422.000\n"
     ]
    },
    {
     "name": "stderr",
     "output_type": "stream",
     "text": [
      "C:\\Users\\DELL\\anaconda3\\Lib\\site-packages\\statsmodels\\base\\model.py:607: ConvergenceWarning: Maximum Likelihood optimization failed to converge. Check mle_retvals\n",
      "  warnings.warn(\"Maximum Likelihood optimization failed to \"\n"
     ]
    },
    {
     "name": "stdout",
     "output_type": "stream",
     "text": [
      ">Predicted=452.564, Expected=465.000\n"
     ]
    },
    {
     "name": "stderr",
     "output_type": "stream",
     "text": [
      "C:\\Users\\DELL\\anaconda3\\Lib\\site-packages\\statsmodels\\base\\model.py:607: ConvergenceWarning: Maximum Likelihood optimization failed to converge. Check mle_retvals\n",
      "  warnings.warn(\"Maximum Likelihood optimization failed to \"\n"
     ]
    },
    {
     "name": "stdout",
     "output_type": "stream",
     "text": [
      ">Predicted=453.472, Expected=467.000\n"
     ]
    },
    {
     "name": "stderr",
     "output_type": "stream",
     "text": [
      "C:\\Users\\DELL\\anaconda3\\Lib\\site-packages\\statsmodels\\base\\model.py:607: ConvergenceWarning: Maximum Likelihood optimization failed to converge. Check mle_retvals\n",
      "  warnings.warn(\"Maximum Likelihood optimization failed to \"\n"
     ]
    },
    {
     "name": "stdout",
     "output_type": "stream",
     "text": [
      ">Predicted=418.962, Expected=404.000\n"
     ]
    },
    {
     "name": "stderr",
     "output_type": "stream",
     "text": [
      "C:\\Users\\DELL\\anaconda3\\Lib\\site-packages\\statsmodels\\base\\model.py:607: ConvergenceWarning: Maximum Likelihood optimization failed to converge. Check mle_retvals\n",
      "  warnings.warn(\"Maximum Likelihood optimization failed to \"\n"
     ]
    },
    {
     "name": "stdout",
     "output_type": "stream",
     "text": [
      ">Predicted=351.376, Expected=347.000\n"
     ]
    },
    {
     "name": "stderr",
     "output_type": "stream",
     "text": [
      "C:\\Users\\DELL\\anaconda3\\Lib\\site-packages\\statsmodels\\base\\model.py:607: ConvergenceWarning: Maximum Likelihood optimization failed to converge. Check mle_retvals\n",
      "  warnings.warn(\"Maximum Likelihood optimization failed to \"\n"
     ]
    },
    {
     "name": "stdout",
     "output_type": "stream",
     "text": [
      ">Predicted=316.797, Expected=305.000\n"
     ]
    },
    {
     "name": "stderr",
     "output_type": "stream",
     "text": [
      "C:\\Users\\DELL\\anaconda3\\Lib\\site-packages\\statsmodels\\base\\model.py:607: ConvergenceWarning: Maximum Likelihood optimization failed to converge. Check mle_retvals\n",
      "  warnings.warn(\"Maximum Likelihood optimization failed to \"\n"
     ]
    },
    {
     "name": "stdout",
     "output_type": "stream",
     "text": [
      ">Predicted=338.000, Expected=336.000\n"
     ]
    },
    {
     "name": "stderr",
     "output_type": "stream",
     "text": [
      "C:\\Users\\DELL\\anaconda3\\Lib\\site-packages\\statsmodels\\base\\model.py:607: ConvergenceWarning: Maximum Likelihood optimization failed to converge. Check mle_retvals\n",
      "  warnings.warn(\"Maximum Likelihood optimization failed to \"\n"
     ]
    },
    {
     "name": "stdout",
     "output_type": "stream",
     "text": [
      ">Predicted=347.529, Expected=340.000\n"
     ]
    },
    {
     "name": "stderr",
     "output_type": "stream",
     "text": [
      "C:\\Users\\DELL\\anaconda3\\Lib\\site-packages\\statsmodels\\base\\model.py:607: ConvergenceWarning: Maximum Likelihood optimization failed to converge. Check mle_retvals\n",
      "  warnings.warn(\"Maximum Likelihood optimization failed to \"\n"
     ]
    },
    {
     "name": "stdout",
     "output_type": "stream",
     "text": [
      ">Predicted=329.490, Expected=318.000\n"
     ]
    },
    {
     "name": "stderr",
     "output_type": "stream",
     "text": [
      "C:\\Users\\DELL\\anaconda3\\Lib\\site-packages\\statsmodels\\base\\model.py:607: ConvergenceWarning: Maximum Likelihood optimization failed to converge. Check mle_retvals\n",
      "  warnings.warn(\"Maximum Likelihood optimization failed to \"\n"
     ]
    },
    {
     "name": "stdout",
     "output_type": "stream",
     "text": [
      ">Predicted=369.398, Expected=362.000\n"
     ]
    },
    {
     "name": "stderr",
     "output_type": "stream",
     "text": [
      "C:\\Users\\DELL\\anaconda3\\Lib\\site-packages\\statsmodels\\base\\model.py:607: ConvergenceWarning: Maximum Likelihood optimization failed to converge. Check mle_retvals\n",
      "  warnings.warn(\"Maximum Likelihood optimization failed to \"\n"
     ]
    },
    {
     "name": "stdout",
     "output_type": "stream",
     "text": [
      ">Predicted=360.076, Expected=348.000\n"
     ]
    },
    {
     "name": "stderr",
     "output_type": "stream",
     "text": [
      "C:\\Users\\DELL\\anaconda3\\Lib\\site-packages\\statsmodels\\base\\model.py:607: ConvergenceWarning: Maximum Likelihood optimization failed to converge. Check mle_retvals\n",
      "  warnings.warn(\"Maximum Likelihood optimization failed to \"\n"
     ]
    },
    {
     "name": "stdout",
     "output_type": "stream",
     "text": [
      ">Predicted=361.938, Expected=363.000\n"
     ]
    },
    {
     "name": "stderr",
     "output_type": "stream",
     "text": [
      "C:\\Users\\DELL\\anaconda3\\Lib\\site-packages\\statsmodels\\base\\model.py:607: ConvergenceWarning: Maximum Likelihood optimization failed to converge. Check mle_retvals\n",
      "  warnings.warn(\"Maximum Likelihood optimization failed to \"\n"
     ]
    },
    {
     "name": "stdout",
     "output_type": "stream",
     "text": [
      ">Predicted=432.911, Expected=435.000\n"
     ]
    },
    {
     "name": "stderr",
     "output_type": "stream",
     "text": [
      "C:\\Users\\DELL\\anaconda3\\Lib\\site-packages\\statsmodels\\base\\model.py:607: ConvergenceWarning: Maximum Likelihood optimization failed to converge. Check mle_retvals\n",
      "  warnings.warn(\"Maximum Likelihood optimization failed to \"\n"
     ]
    },
    {
     "name": "stdout",
     "output_type": "stream",
     "text": [
      ">Predicted=481.026, Expected=491.000\n"
     ]
    },
    {
     "name": "stderr",
     "output_type": "stream",
     "text": [
      "C:\\Users\\DELL\\anaconda3\\Lib\\site-packages\\statsmodels\\base\\model.py:607: ConvergenceWarning: Maximum Likelihood optimization failed to converge. Check mle_retvals\n",
      "  warnings.warn(\"Maximum Likelihood optimization failed to \"\n"
     ]
    },
    {
     "name": "stdout",
     "output_type": "stream",
     "text": [
      ">Predicted=490.413, Expected=505.000\n"
     ]
    },
    {
     "name": "stderr",
     "output_type": "stream",
     "text": [
      "C:\\Users\\DELL\\anaconda3\\Lib\\site-packages\\statsmodels\\base\\model.py:607: ConvergenceWarning: Maximum Likelihood optimization failed to converge. Check mle_retvals\n",
      "  warnings.warn(\"Maximum Likelihood optimization failed to \"\n"
     ]
    },
    {
     "name": "stdout",
     "output_type": "stream",
     "text": [
      ">Predicted=449.333, Expected=404.000\n"
     ]
    },
    {
     "name": "stderr",
     "output_type": "stream",
     "text": [
      "C:\\Users\\DELL\\anaconda3\\Lib\\site-packages\\statsmodels\\base\\model.py:607: ConvergenceWarning: Maximum Likelihood optimization failed to converge. Check mle_retvals\n",
      "  warnings.warn(\"Maximum Likelihood optimization failed to \"\n"
     ]
    },
    {
     "name": "stdout",
     "output_type": "stream",
     "text": [
      ">Predicted=349.809, Expected=359.000\n"
     ]
    },
    {
     "name": "stderr",
     "output_type": "stream",
     "text": [
      "C:\\Users\\DELL\\anaconda3\\Lib\\site-packages\\statsmodels\\base\\model.py:607: ConvergenceWarning: Maximum Likelihood optimization failed to converge. Check mle_retvals\n",
      "  warnings.warn(\"Maximum Likelihood optimization failed to \"\n"
     ]
    },
    {
     "name": "stdout",
     "output_type": "stream",
     "text": [
      ">Predicted=320.473, Expected=310.000\n",
      ">Predicted=341.562, Expected=337.000\n"
     ]
    },
    {
     "name": "stderr",
     "output_type": "stream",
     "text": [
      "C:\\Users\\DELL\\anaconda3\\Lib\\site-packages\\statsmodels\\base\\model.py:607: ConvergenceWarning: Maximum Likelihood optimization failed to converge. Check mle_retvals\n",
      "  warnings.warn(\"Maximum Likelihood optimization failed to \"\n"
     ]
    }
   ],
   "source": [
    "# walk-forward validation\n",
    "history = [x for x in train]\n",
    "predictions = list()\n",
    "for i in range(len(test)):\n",
    "    # predict\n",
    "    model = ARIMA(history, order=(13,2,6))\n",
    "    model_fit = model.fit()\n",
    "    yhat = model_fit.forecast()[0]\n",
    "    predictions.append(yhat)\n",
    "    # observation\n",
    "    obs = test[i]\n",
    "    history.append(obs)\n",
    "    print('>Predicted=%.3f, Expected=%.3f' % (yhat, obs))"
   ]
  },
  {
   "cell_type": "code",
   "execution_count": 32,
   "id": "f1df26b0",
   "metadata": {},
   "outputs": [
    {
     "name": "stdout",
     "output_type": "stream",
     "text": [
      "RMSE: 12.476\n"
     ]
    }
   ],
   "source": [
    "# report performance\n",
    "rmse = sqrt(mean_squared_error(test, predictions))\n",
    "print('RMSE: %.3f' % rmse)"
   ]
  },
  {
   "cell_type": "markdown",
   "id": "13b9b262",
   "metadata": {},
   "source": [
    "# Grid Search ARIMA Hyperparameters"
   ]
  },
  {
   "cell_type": "markdown",
   "id": "1be1ac43",
   "metadata": {},
   "source": [
    "p: 0 to 16.\n",
    "d: 0 to 5.\n",
    "q: 0 to 12."
   ]
  },
  {
   "cell_type": "code",
   "execution_count": 33,
   "id": "d880dade",
   "metadata": {},
   "outputs": [],
   "source": [
    "# grid search ARIMA parameters for time series\n",
    "import warnings\n",
    "from pandas import read_csv\n",
    "from statsmodels.tsa.arima.model import ARIMA\n",
    "from sklearn.metrics import mean_squared_error\n",
    "from math import sqrt\n",
    "def evaluate_arima_model(X, arima_order):\n",
    "    # prepare training dataset\n",
    "    X = X.astype('float32')\n",
    "    train_size = int(len(X) * 0.50)\n",
    "    train, test = X[0:train_size], X[train_size:]\n",
    "    history = [x for x in train]\n",
    "    # make predictions\n",
    "    predictions = list()\n",
    "    for t in range(len(test)):\n",
    "        model = ARIMA(history, order=arima_order)\n",
    "        model_fit = model.fit()\n",
    "        yhat = model_fit.forecast()[0]\n",
    "        predictions.append(yhat)\n",
    "        history.append(test[t])\n",
    "        # calculate out of sample error\n",
    "    rmse = sqrt(mean_squared_error(test, predictions))\n",
    "    return rmse"
   ]
  },
  {
   "cell_type": "code",
   "execution_count": 35,
   "id": "c455e688",
   "metadata": {},
   "outputs": [],
   "source": [
    "# evaluate combinations of p, d and q values for an ARIMA model\n",
    "def evaluate_models(dataset, p_values, d_values, q_values):\n",
    "    dataset = dataset.astype('float32')\n",
    "    best_score, best_cfg = float(\"inf\"), None\n",
    "    for p in p_values:\n",
    "        for d in d_values:\n",
    "            for q in q_values:\n",
    "                order = (p,d,q)\n",
    "                try:\n",
    "                    rmse = evaluate_arima_model(dataset, order)\n",
    "                    if rmse < best_score:\n",
    "                        best_score, best_cfg = rmse, order\n",
    "                    print('ARIMA%s RMSE=%.3f' % (order,rmse))\n",
    "                except:\n",
    "                    continue\n",
    "    print('Best ARIMA%s RMSE=%.3f' % (best_cfg, best_score))\n",
    "    return best_cfg,best_score"
   ]
  },
  {
   "cell_type": "code",
   "execution_count": 36,
   "id": "f1a89ee8",
   "metadata": {
    "scrolled": false
   },
   "outputs": [
    {
     "name": "stdout",
     "output_type": "stream",
     "text": [
      "ARIMA(0, 0, 0) RMSE=127.794\n",
      "ARIMA(0, 0, 1) RMSE=69.142\n",
      "ARIMA(0, 0, 2) RMSE=52.891\n",
      "ARIMA(0, 0, 3) RMSE=41.186\n",
      "ARIMA(0, 0, 4) RMSE=40.417\n",
      "ARIMA(0, 0, 5) RMSE=37.829\n",
      "ARIMA(0, 0, 6) RMSE=39.746\n",
      "ARIMA(0, 1, 0) RMSE=36.627\n",
      "ARIMA(0, 1, 1) RMSE=34.666\n",
      "ARIMA(0, 1, 2) RMSE=35.178\n",
      "ARIMA(0, 1, 3) RMSE=36.198\n",
      "ARIMA(0, 1, 4) RMSE=31.428\n",
      "ARIMA(0, 1, 5) RMSE=32.433\n",
      "ARIMA(0, 1, 6) RMSE=32.791\n",
      "ARIMA(0, 2, 0) RMSE=43.035\n",
      "ARIMA(0, 2, 1) RMSE=36.758\n",
      "ARIMA(0, 2, 2) RMSE=34.801\n",
      "ARIMA(0, 2, 3) RMSE=35.387\n",
      "ARIMA(0, 2, 4) RMSE=36.521\n",
      "ARIMA(0, 2, 5) RMSE=31.178\n",
      "ARIMA(0, 2, 6) RMSE=31.545\n",
      "ARIMA(1, 0, 0) RMSE=37.069\n",
      "ARIMA(1, 0, 1) RMSE=34.956\n",
      "ARIMA(1, 0, 2) RMSE=35.411\n",
      "ARIMA(1, 0, 3) RMSE=37.096\n",
      "ARIMA(1, 0, 4) RMSE=32.073\n",
      "ARIMA(1, 0, 5) RMSE=31.259\n",
      "ARIMA(1, 0, 6) RMSE=31.980\n",
      "ARIMA(1, 1, 0) RMSE=35.212\n",
      "ARIMA(1, 1, 1) RMSE=34.139\n",
      "ARIMA(1, 1, 2) RMSE=33.538\n",
      "ARIMA(1, 1, 3) RMSE=33.717\n",
      "ARIMA(1, 1, 4) RMSE=32.099\n",
      "ARIMA(1, 1, 5) RMSE=31.244\n",
      "ARIMA(1, 1, 6) RMSE=31.464\n",
      "ARIMA(1, 2, 0) RMSE=42.519\n",
      "ARIMA(1, 2, 1) RMSE=35.352\n",
      "ARIMA(1, 2, 2) RMSE=34.273\n",
      "ARIMA(1, 2, 3) RMSE=34.139\n",
      "ARIMA(1, 2, 4) RMSE=35.227\n",
      "ARIMA(1, 2, 5) RMSE=30.107\n",
      "ARIMA(1, 2, 6) RMSE=30.413\n",
      "ARIMA(2, 0, 0) RMSE=35.422\n",
      "ARIMA(2, 0, 1) RMSE=34.698\n",
      "ARIMA(2, 0, 2) RMSE=34.470\n",
      "ARIMA(2, 0, 3) RMSE=34.400\n",
      "ARIMA(2, 0, 4) RMSE=33.399\n",
      "ARIMA(2, 0, 5) RMSE=34.238\n",
      "ARIMA(2, 0, 6) RMSE=29.602\n",
      "ARIMA(2, 1, 0) RMSE=34.697\n",
      "ARIMA(2, 1, 1) RMSE=32.762\n",
      "ARIMA(2, 1, 2) RMSE=33.658\n",
      "ARIMA(2, 1, 3) RMSE=32.846\n",
      "ARIMA(2, 1, 4) RMSE=30.835\n",
      "ARIMA(2, 1, 5) RMSE=31.684\n",
      "ARIMA(2, 1, 6) RMSE=34.116\n",
      "ARIMA(2, 2, 0) RMSE=41.299\n",
      "ARIMA(2, 2, 1) RMSE=34.852\n",
      "ARIMA(2, 2, 2) RMSE=34.385\n",
      "ARIMA(2, 2, 3) RMSE=34.661\n",
      "ARIMA(2, 2, 4) RMSE=34.908\n",
      "ARIMA(2, 2, 5) RMSE=30.333\n",
      "ARIMA(2, 2, 6) RMSE=29.712\n",
      "ARIMA(3, 0, 0) RMSE=35.001\n",
      "ARIMA(3, 0, 1) RMSE=34.650\n",
      "ARIMA(3, 0, 2) RMSE=34.743\n",
      "ARIMA(3, 0, 3) RMSE=33.328\n",
      "ARIMA(3, 0, 4) RMSE=32.029\n",
      "ARIMA(3, 0, 5) RMSE=31.426\n",
      "ARIMA(3, 0, 6) RMSE=31.606\n",
      "ARIMA(3, 1, 0) RMSE=34.972\n",
      "ARIMA(3, 1, 1) RMSE=33.776\n",
      "ARIMA(3, 1, 2) RMSE=32.193\n",
      "ARIMA(3, 1, 3) RMSE=29.300\n",
      "ARIMA(3, 1, 4) RMSE=30.098\n",
      "ARIMA(3, 1, 5) RMSE=32.710\n",
      "ARIMA(3, 1, 6) RMSE=47.768\n",
      "ARIMA(3, 2, 0) RMSE=41.608\n",
      "ARIMA(3, 2, 1) RMSE=35.102\n",
      "ARIMA(3, 2, 2) RMSE=34.356\n",
      "ARIMA(3, 2, 4) RMSE=34.338\n",
      "ARIMA(3, 2, 5) RMSE=31.154\n",
      "ARIMA(3, 2, 6) RMSE=30.428\n",
      "ARIMA(4, 0, 0) RMSE=35.329\n",
      "ARIMA(4, 0, 1) RMSE=34.883\n",
      "ARIMA(4, 0, 2) RMSE=38.556\n",
      "ARIMA(4, 0, 3) RMSE=32.619\n",
      "ARIMA(4, 0, 4) RMSE=32.838\n",
      "ARIMA(4, 0, 5) RMSE=31.172\n",
      "ARIMA(4, 0, 6) RMSE=32.881\n",
      "ARIMA(4, 1, 0) RMSE=33.937\n",
      "ARIMA(4, 1, 1) RMSE=52.712\n",
      "ARIMA(4, 1, 2) RMSE=32.272\n",
      "ARIMA(4, 1, 3) RMSE=29.164\n",
      "ARIMA(4, 1, 4) RMSE=29.418\n",
      "ARIMA(4, 1, 5) RMSE=29.108\n",
      "ARIMA(4, 1, 6) RMSE=31.432\n",
      "ARIMA(4, 2, 0) RMSE=38.795\n",
      "ARIMA(4, 2, 1) RMSE=33.934\n",
      "ARIMA(4, 2, 2) RMSE=34.567\n",
      "ARIMA(4, 2, 3) RMSE=33.343\n",
      "ARIMA(4, 2, 4) RMSE=33.327\n",
      "ARIMA(4, 2, 5) RMSE=29.767\n",
      "ARIMA(4, 2, 6) RMSE=30.937\n",
      "ARIMA(5, 0, 0) RMSE=34.381\n",
      "ARIMA(5, 0, 1) RMSE=34.482\n",
      "ARIMA(5, 0, 2) RMSE=32.691\n",
      "ARIMA(5, 0, 3) RMSE=35.063\n",
      "ARIMA(5, 0, 4) RMSE=29.647\n",
      "ARIMA(5, 0, 5) RMSE=29.976\n",
      "ARIMA(5, 0, 6) RMSE=33.306\n",
      "ARIMA(5, 1, 0) RMSE=34.165\n",
      "ARIMA(5, 1, 1) RMSE=33.925\n",
      "ARIMA(5, 1, 2) RMSE=32.392\n",
      "ARIMA(5, 1, 3) RMSE=30.487\n",
      "ARIMA(5, 1, 4) RMSE=29.827\n",
      "ARIMA(5, 1, 5) RMSE=28.252\n",
      "ARIMA(5, 1, 6) RMSE=61.047\n",
      "ARIMA(5, 2, 0) RMSE=38.822\n",
      "ARIMA(5, 2, 1) RMSE=34.190\n",
      "ARIMA(5, 2, 2) RMSE=33.579\n",
      "ARIMA(5, 2, 3) RMSE=45.860\n",
      "ARIMA(5, 2, 4) RMSE=29.808\n",
      "ARIMA(5, 2, 6) RMSE=30.113\n",
      "ARIMA(6, 0, 0) RMSE=34.599\n",
      "ARIMA(6, 0, 1) RMSE=33.992\n",
      "ARIMA(6, 0, 2) RMSE=32.912\n",
      "ARIMA(6, 0, 3) RMSE=32.408\n",
      "ARIMA(6, 0, 4) RMSE=29.727\n",
      "ARIMA(6, 0, 5) RMSE=30.168\n",
      "ARIMA(6, 0, 6) RMSE=31.401\n",
      "ARIMA(6, 1, 0) RMSE=34.450\n",
      "ARIMA(6, 1, 1) RMSE=2811067.773\n",
      "ARIMA(6, 1, 4) RMSE=30.386\n",
      "ARIMA(6, 1, 5) RMSE=29.731\n",
      "ARIMA(6, 1, 6) RMSE=28.874\n",
      "ARIMA(6, 2, 0) RMSE=39.078\n",
      "ARIMA(6, 2, 2) RMSE=33.742\n",
      "ARIMA(6, 2, 3) RMSE=30.946\n",
      "ARIMA(6, 2, 4) RMSE=31.648\n",
      "ARIMA(6, 2, 5) RMSE=29.201\n",
      "ARIMA(6, 2, 6) RMSE=28.762\n",
      "ARIMA(7, 0, 0) RMSE=34.877\n",
      "ARIMA(7, 0, 1) RMSE=34.227\n",
      "ARIMA(7, 0, 2) RMSE=33.493\n",
      "ARIMA(7, 0, 3) RMSE=31.899\n",
      "ARIMA(7, 0, 4) RMSE=30.957\n",
      "ARIMA(7, 0, 5) RMSE=30.738\n",
      "ARIMA(7, 0, 6) RMSE=31.592\n",
      "ARIMA(7, 1, 0) RMSE=34.311\n",
      "ARIMA(7, 1, 1) RMSE=31.307\n",
      "ARIMA(7, 1, 2) RMSE=28.587\n",
      "ARIMA(7, 1, 3) RMSE=24.043\n",
      "ARIMA(7, 1, 4) RMSE=25.899\n",
      "ARIMA(7, 1, 5) RMSE=26.116\n",
      "ARIMA(7, 1, 6) RMSE=25.906\n",
      "ARIMA(7, 2, 0) RMSE=39.081\n",
      "ARIMA(7, 2, 1) RMSE=36.261\n",
      "ARIMA(7, 2, 2) RMSE=34.229\n",
      "ARIMA(7, 2, 3) RMSE=31.220\n",
      "ARIMA(7, 2, 4) RMSE=30.126\n",
      "ARIMA(7, 2, 5) RMSE=28.378\n",
      "ARIMA(7, 2, 6) RMSE=29.416\n",
      "ARIMA(8, 0, 0) RMSE=34.690\n",
      "ARIMA(8, 0, 1) RMSE=34.952\n",
      "ARIMA(8, 0, 3) RMSE=34.613\n",
      "ARIMA(8, 0, 4) RMSE=29.228\n",
      "ARIMA(8, 0, 5) RMSE=29.023\n",
      "ARIMA(8, 0, 6) RMSE=29.261\n",
      "ARIMA(8, 1, 0) RMSE=29.719\n",
      "ARIMA(8, 1, 1) RMSE=28.518\n",
      "ARIMA(8, 1, 4) RMSE=20.261\n",
      "ARIMA(8, 1, 5) RMSE=22.474\n",
      "ARIMA(8, 1, 6) RMSE=21.207\n",
      "ARIMA(8, 2, 0) RMSE=37.037\n",
      "ARIMA(8, 2, 1) RMSE=29.006\n",
      "ARIMA(8, 2, 3) RMSE=25.591\n",
      "ARIMA(8, 2, 4) RMSE=25.076\n",
      "ARIMA(8, 2, 5) RMSE=22.744\n",
      "ARIMA(8, 2, 6) RMSE=22.868\n",
      "ARIMA(9, 0, 0) RMSE=30.008\n",
      "ARIMA(9, 0, 1) RMSE=29.856\n",
      "ARIMA(9, 0, 3) RMSE=27.030\n",
      "ARIMA(9, 0, 4) RMSE=26.992\n",
      "ARIMA(9, 0, 6) RMSE=27.533\n",
      "ARIMA(9, 1, 0) RMSE=29.602\n",
      "ARIMA(9, 1, 1) RMSE=28.583\n",
      "ARIMA(9, 1, 2) RMSE=28.819\n",
      "ARIMA(9, 1, 3) RMSE=22.962\n",
      "ARIMA(9, 1, 4) RMSE=20.541\n",
      "ARIMA(9, 1, 5) RMSE=21.121\n",
      "ARIMA(9, 1, 6) RMSE=21.270\n",
      "ARIMA(9, 2, 0) RMSE=37.434\n",
      "ARIMA(9, 2, 1) RMSE=28.355\n",
      "ARIMA(9, 2, 2) RMSE=29.159\n",
      "ARIMA(9, 2, 3) RMSE=4644266.722\n",
      "ARIMA(9, 2, 4) RMSE=24.736\n",
      "ARIMA(9, 2, 5) RMSE=828.942\n",
      "ARIMA(9, 2, 6) RMSE=22.896\n",
      "ARIMA(10, 0, 0) RMSE=29.868\n",
      "ARIMA(10, 0, 1) RMSE=30.446\n",
      "ARIMA(10, 0, 2) RMSE=29.806\n",
      "ARIMA(10, 0, 3) RMSE=26.533\n",
      "ARIMA(10, 0, 5) RMSE=33.337\n",
      "ARIMA(10, 0, 6) RMSE=23.316\n",
      "ARIMA(10, 1, 0) RMSE=24.444\n",
      "ARIMA(10, 1, 1) RMSE=24.417\n",
      "ARIMA(10, 1, 2) RMSE=17.556\n",
      "ARIMA(10, 1, 3) RMSE=18.778\n",
      "ARIMA(10, 1, 4) RMSE=14.736\n",
      "ARIMA(10, 1, 5) RMSE=15.912\n",
      "ARIMA(10, 1, 6) RMSE=15.577\n",
      "ARIMA(10, 2, 0) RMSE=29.079\n",
      "ARIMA(10, 2, 1) RMSE=19.122\n",
      "ARIMA(10, 2, 2) RMSE=17.133\n",
      "ARIMA(10, 2, 3) RMSE=16.668\n",
      "ARIMA(10, 2, 4) RMSE=17.819\n",
      "ARIMA(10, 2, 5) RMSE=16.730\n",
      "ARIMA(10, 2, 6) RMSE=16.308\n",
      "ARIMA(11, 0, 0) RMSE=24.705\n",
      "ARIMA(11, 0, 1) RMSE=24.635\n",
      "ARIMA(11, 0, 2) RMSE=17.871\n",
      "ARIMA(11, 0, 3) RMSE=18.155\n",
      "ARIMA(11, 0, 4) RMSE=17.939\n",
      "ARIMA(11, 0, 5) RMSE=15.541\n",
      "ARIMA(11, 0, 6) RMSE=16.052\n",
      "ARIMA(11, 1, 0) RMSE=24.351\n",
      "ARIMA(11, 1, 1) RMSE=20.297\n",
      "ARIMA(11, 1, 2) RMSE=17.226\n",
      "ARIMA(11, 1, 3) RMSE=15.052\n",
      "ARIMA(11, 1, 4) RMSE=14.850\n",
      "ARIMA(11, 1, 5) RMSE=17.123\n",
      "ARIMA(11, 1, 6) RMSE=13.400\n",
      "ARIMA(11, 2, 0) RMSE=12.485\n",
      "ARIMA(11, 2, 1) RMSE=12.670\n",
      "ARIMA(11, 2, 2) RMSE=12.688\n",
      "ARIMA(11, 2, 3) RMSE=12.112\n",
      "ARIMA(11, 2, 4) RMSE=12.352\n",
      "ARIMA(11, 2, 5) RMSE=12.897\n",
      "ARIMA(11, 2, 6) RMSE=12.927\n",
      "ARIMA(12, 0, 0) RMSE=24.584\n",
      "ARIMA(12, 0, 1) RMSE=23.721\n",
      "ARIMA(12, 0, 2) RMSE=18.930\n",
      "ARIMA(12, 0, 3) RMSE=17.051\n",
      "ARIMA(12, 0, 4) RMSE=15.756\n",
      "ARIMA(12, 0, 5) RMSE=15.576\n",
      "ARIMA(12, 0, 6) RMSE=14.818\n",
      "ARIMA(12, 1, 0) RMSE=12.456\n",
      "ARIMA(12, 1, 1) RMSE=12.532\n",
      "ARIMA(12, 1, 2) RMSE=12.675\n",
      "ARIMA(12, 1, 3) RMSE=12.063\n",
      "ARIMA(12, 1, 4) RMSE=12.347\n",
      "ARIMA(12, 1, 5) RMSE=12.396\n",
      "ARIMA(12, 1, 6) RMSE=12.655\n",
      "ARIMA(12, 2, 1) RMSE=12.525\n",
      "ARIMA(12, 2, 2) RMSE=12.690\n",
      "ARIMA(12, 2, 3) RMSE=12.571\n",
      "ARIMA(12, 2, 4) RMSE=12.468\n",
      "ARIMA(12, 2, 5) RMSE=12.781\n",
      "ARIMA(12, 2, 6) RMSE=12.833\n",
      "Best ARIMA(12, 1, 3) RMSE=12.063\n"
     ]
    }
   ],
   "source": [
    "# evaluate parameters\n",
    "p_values = range(0,13)\n",
    "d_values = range(0,3)\n",
    "q_values = range(0,7)\n",
    "warnings.filterwarnings(\"ignore\")\n",
    "best_cfg,best_score=evaluate_models(X, p_values, d_values, q_values)"
   ]
  },
  {
   "cell_type": "code",
   "execution_count": 60,
   "id": "bfa5bd41",
   "metadata": {},
   "outputs": [
    {
     "name": "stdout",
     "output_type": "stream",
     "text": [
      "(12, 1, 3)\n"
     ]
    }
   ],
   "source": [
    "print(best_cfg)"
   ]
  },
  {
   "cell_type": "markdown",
   "id": "6e05f13d",
   "metadata": {},
   "source": [
    "# Review Residual Errors"
   ]
  },
  {
   "cell_type": "markdown",
   "id": "854208ab",
   "metadata": {},
   "source": [
    "A good final check of a model is to review residual forecast errors. Ideally, the distribution\n",
    "of residual errors should be a Gaussian with a zero mean. We can check this by plotting the\n",
    "residuals with a histogram and density plots. The example below calculates the residual errors\n",
    "for predictions on the test set and creates these density plots."
   ]
  },
  {
   "cell_type": "code",
   "execution_count": 107,
   "id": "8a7c42c3",
   "metadata": {},
   "outputs": [
    {
     "data": {
      "image/png": "[encoded data removed]",
      "text/plain": [
       "<Figure size 640x480 with 2 Axes>"
      ]
     },
     "metadata": {},
     "output_type": "display_data"
    }
   ],
   "source": [
    "X = series.values\n",
    "X = X.astype('float32')\n",
    "train_size = int(len(X) * 0.50)\n",
    "train, test = X[0:train_size], X[train_size:]\n",
    "# walk-forward validation\n",
    "history = [x for x in train]\n",
    "predictions = list()\n",
    "for i in range(len(test)):\n",
    "    # predict\n",
    "    model = ARIMA(history, order=(12,1,3))\n",
    "    model_fit = model.fit()\n",
    "    yhat = model_fit.forecast()[0]\n",
    "    predictions.append(yhat)\n",
    "    # observation\n",
    "    obs = test[i]\n",
    "    history.append(obs)\n",
    "# errors\n",
    "residuals = [test[i]-predictions[i] for i in range(len(test))]\n",
    "residuals = DataFrame(residuals)\n",
    "pyplot.figure()\n",
    "pyplot.subplot(211)\n",
    "residuals.hist(ax=pyplot.gca())\n",
    "pyplot.subplot(212)\n",
    "residuals.plot(kind='kde', ax=pyplot.gca())\n",
    "pyplot.show()"
   ]
  },
  {
   "cell_type": "code",
   "execution_count": 95,
   "id": "52d6829a",
   "metadata": {},
   "outputs": [
    {
     "data": {
      "image/png": "[encoded data removed]",
      "text/plain": [
       "<Figure size 640x480 with 2 Axes>"
      ]
     },
     "metadata": {},
     "output_type": "display_data"
    }
   ],
   "source": [
    "pyplot.figure()\n",
    "pyplot.subplot(211)\n",
    "plot_acf(residuals, lags=25, ax=pyplot.gca())\n",
    "pyplot.subplot(212)\n",
    "plot_pacf(residuals, lags=25, ax=pyplot.gca())\n",
    "pyplot.show()"
   ]
  },
  {
   "cell_type": "code",
   "execution_count": 96,
   "id": "a99f23ed",
   "metadata": {},
   "outputs": [
    {
     "name": "stdout",
     "output_type": "stream",
     "text": [
      "> Predicted=201.000, Expected=204.000\n",
      "> Predicted=204.000, Expected=188.000\n",
      "> Predicted=188.000, Expected=235.000\n",
      "> Predicted=235.000, Expected=227.000\n",
      "> Predicted=227.000, Expected=234.000\n",
      "> Predicted=234.000, Expected=264.000\n",
      "> Predicted=264.000, Expected=302.000\n",
      "> Predicted=302.000, Expected=293.000\n",
      "> Predicted=293.000, Expected=259.000\n",
      "> Predicted=259.000, Expected=229.000\n",
      "> Predicted=229.000, Expected=203.000\n",
      "> Predicted=203.000, Expected=229.000\n",
      "> Predicted=229.000, Expected=242.000\n",
      "> Predicted=242.000, Expected=233.000\n",
      "> Predicted=233.000, Expected=267.000\n",
      "> Predicted=267.000, Expected=269.000\n",
      "> Predicted=269.000, Expected=270.000\n",
      "> Predicted=270.000, Expected=315.000\n",
      "> Predicted=315.000, Expected=364.000\n",
      "> Predicted=364.000, Expected=347.000\n",
      "> Predicted=347.000, Expected=312.000\n",
      "> Predicted=312.000, Expected=274.000\n",
      "> Predicted=274.000, Expected=237.000\n",
      "> Predicted=237.000, Expected=278.000\n",
      "> Predicted=278.000, Expected=284.000\n",
      "> Predicted=284.000, Expected=277.000\n",
      "> Predicted=277.000, Expected=317.000\n",
      "> Predicted=317.000, Expected=313.000\n",
      "> Predicted=313.000, Expected=318.000\n",
      "> Predicted=318.000, Expected=374.000\n",
      "> Predicted=374.000, Expected=413.000\n",
      "> Predicted=413.000, Expected=405.000\n",
      "> Predicted=405.000, Expected=355.000\n",
      "> Predicted=355.000, Expected=306.000\n",
      "> Predicted=306.000, Expected=271.000\n",
      "> Predicted=271.000, Expected=306.000\n",
      "> Predicted=306.000, Expected=315.000\n",
      "> Predicted=315.000, Expected=301.000\n",
      "> Predicted=301.000, Expected=356.000\n",
      "> Predicted=356.000, Expected=348.000\n",
      "> Predicted=348.000, Expected=355.000\n",
      "> Predicted=355.000, Expected=422.000\n",
      "> Predicted=422.000, Expected=465.000\n",
      "> Predicted=465.000, Expected=467.000\n",
      "> Predicted=467.000, Expected=404.000\n",
      "> Predicted=404.000, Expected=347.000\n",
      "> Predicted=347.000, Expected=305.000\n",
      "> Predicted=305.000, Expected=336.000\n",
      "> Predicted=336.000, Expected=340.000\n",
      "> Predicted=340.000, Expected=318.000\n",
      "> Predicted=318.000, Expected=362.000\n",
      "> Predicted=362.000, Expected=348.000\n",
      "> Predicted=348.000, Expected=363.000\n",
      "> Predicted=363.000, Expected=435.000\n",
      "> Predicted=435.000, Expected=491.000\n",
      "> Predicted=491.000, Expected=505.000\n",
      "> Predicted=505.000, Expected=404.000\n",
      "> Predicted=404.000, Expected=359.000\n",
      "> Predicted=359.000, Expected=310.000\n",
      "> Predicted=310.000, Expected=337.000\n",
      "RMSE: 36.627\n",
      "36.62694807372452\n"
     ]
    }
   ],
   "source": [
    "X = X.astype('float32')\n",
    "train_size = int(len(X) * 0.50)\n",
    "train, test = X[0:train_size], X[train_size:]\n",
    "print(evaluate_persistence_model(train, test))"
   ]
  },
  {
   "cell_type": "markdown",
   "id": "540ec29b",
   "metadata": {},
   "source": [
    "# Box-Cox Transformed Dataset"
   ]
  },
  {
   "cell_type": "markdown",
   "id": "bcca9cce",
   "metadata": {},
   "source": [
    "The Box-Cox transform is a method that is able to evaluate a suite of power transforms,\n",
    "including, but not limited to, log, square root, and reciprocal transforms of the data. The\n",
    "example below performs a log transform of the data and generates some plots to review the\n",
    "effect on the time series."
   ]
  },
  {
   "cell_type": "code",
   "execution_count": 97,
   "id": "d9e59077",
   "metadata": {},
   "outputs": [
    {
     "name": "stdout",
     "output_type": "stream",
     "text": [
      "Lambda: 0.084293\n"
     ]
    },
    {
     "data": {
      "image/png": "[encoded data removed]",
      "text/plain": [
       "<Figure size 640x480 with 3 Axes>"
      ]
     },
     "metadata": {},
     "output_type": "display_data"
    }
   ],
   "source": [
    "from scipy.stats import boxcox\n",
    "from statsmodels.graphics.gofplots import qqplot\n",
    "X = series.values\n",
    "transformed, lam = boxcox(X)\n",
    "print('Lambda: %f' % lam)\n",
    "pyplot.figure(1)\n",
    "# line plot\n",
    "pyplot.subplot(311)\n",
    "pyplot.plot(transformed)\n",
    "# histogram\n",
    "pyplot.subplot(312)\n",
    "pyplot.hist(transformed)\n",
    "# q-q plot\n",
    "pyplot.subplot(313)\n",
    "qqplot(transformed, line='r', ax=pyplot.gca())\n",
    "pyplot.show()"
   ]
  },
  {
   "cell_type": "code",
   "execution_count": 98,
   "id": "613a8a54",
   "metadata": {},
   "outputs": [],
   "source": [
    "# invert Box-Cox transform\n",
    "from math import log\n",
    "from math import exp\n",
    "def boxcox_inverse(value, lam):\n",
    " if lam == 0:\n",
    "  return exp(value)\n",
    " return exp(log(lam * value + 1) /lam)"
   ]
  },
  {
   "cell_type": "code",
   "execution_count": 102,
   "id": "59129fba",
   "metadata": {},
   "outputs": [
    {
     "name": "stdout",
     "output_type": "stream",
     "text": [
      ">Predicted=212.767, Expected=204.000\n",
      ">Predicted=208.138, Expected=188.000\n",
      ">Predicted=223.239, Expected=235.000\n",
      ">Predicted=235.925, Expected=227.000\n",
      ">Predicted=230.012, Expected=234.000\n",
      ">Predicted=245.216, Expected=264.000\n",
      ">Predicted=274.407, Expected=302.000\n",
      ">Predicted=304.043, Expected=293.000\n",
      ">Predicted=261.875, Expected=259.000\n",
      ">Predicted=225.279, Expected=229.000\n",
      ">Predicted=197.991, Expected=203.000\n",
      ">Predicted=222.273, Expected=229.000\n",
      ">Predicted=226.527, Expected=242.000\n",
      ">Predicted=220.242, Expected=233.000\n",
      ">Predicted=267.472, Expected=267.000\n",
      ">Predicted=263.987, Expected=269.000\n",
      ">Predicted=269.358, Expected=270.000\n",
      ">Predicted=303.962, Expected=315.000\n",
      ">Predicted=348.455, Expected=364.000\n",
      ">Predicted=346.545, Expected=347.000\n",
      ">Predicted=308.008, Expected=312.000\n",
      ">Predicted=274.329, Expected=274.000\n",
      ">Predicted=245.222, Expected=237.000\n",
      ">Predicted=265.083, Expected=278.000\n",
      ">Predicted=290.029, Expected=284.000\n",
      ">Predicted=274.484, Expected=277.000\n",
      ">Predicted=304.781, Expected=317.000\n",
      ">Predicted=320.085, Expected=313.000\n",
      ">Predicted=317.936, Expected=318.000\n",
      ">Predicted=366.635, Expected=374.000\n",
      ">Predicted=423.879, Expected=413.000\n",
      ">Predicted=394.358, Expected=405.000\n",
      ">Predicted=364.561, Expected=355.000\n",
      ">Predicted=314.181, Expected=306.000\n",
      ">Predicted=270.258, Expected=271.000\n",
      ">Predicted=312.150, Expected=306.000\n",
      ">Predicted=318.722, Expected=315.000\n",
      ">Predicted=305.395, Expected=301.000\n",
      ">Predicted=339.229, Expected=356.000\n",
      ">Predicted=352.336, Expected=348.000\n",
      ">Predicted=357.978, Expected=355.000\n",
      ">Predicted=413.885, Expected=422.000\n",
      ">Predicted=457.416, Expected=465.000\n",
      ">Predicted=452.335, Expected=467.000\n",
      ">Predicted=408.880, Expected=404.000\n",
      ">Predicted=347.088, Expected=347.000\n",
      ">Predicted=308.419, Expected=305.000\n",
      ">Predicted=341.891, Expected=336.000\n",
      ">Predicted=347.639, Expected=340.000\n",
      ">Predicted=327.388, Expected=318.000\n",
      ">Predicted=370.065, Expected=362.000\n",
      ">Predicted=362.157, Expected=348.000\n",
      ">Predicted=362.980, Expected=363.000\n",
      ">Predicted=432.921, Expected=435.000\n",
      ">Predicted=480.828, Expected=491.000\n",
      ">Predicted=489.511, Expected=505.000\n",
      ">Predicted=439.756, Expected=404.000\n",
      ">Predicted=352.741, Expected=359.000\n",
      ">Predicted=317.883, Expected=310.000\n",
      ">Predicted=343.061, Expected=337.000\n",
      "RMSE: 10.598\n"
     ]
    }
   ],
   "source": [
    "X = X.astype('float32')\n",
    "train_size = int(len(X) * 0.50)\n",
    "train, test = X[0:train_size], X[train_size:]\n",
    "# walk-forward validation\n",
    "history = [x for x in train]\n",
    "predictions = list()\n",
    "for i in range(len(test)):\n",
    "    # transform\n",
    "    transformed, lam = boxcox(history)\n",
    "    if lam < -5:\n",
    "        transformed, lam = history, 1\n",
    "    # predict\n",
    "    model = ARIMA(transformed, order=best_cfg)\n",
    "    model_fit = model.fit()\n",
    "    yhat = model_fit.forecast()[0]\n",
    "    # invert transformed prediction\n",
    "    yhat = boxcox_inverse(yhat, lam)\n",
    "    predictions.append(yhat)\n",
    "    # observation\n",
    "    obs = test[i]\n",
    "    history.append(obs)\n",
    "    print('>Predicted=%.3f, Expected=%.3f' % (yhat, obs))\n",
    "# report performance\n",
    "rmse = sqrt(mean_squared_error(test, predictions))\n",
    "print('RMSE: %.3f' % rmse)"
   ]
  },
  {
   "cell_type": "markdown",
   "id": "9f883fd0",
   "metadata": {},
   "source": [
    "# Model Validation"
   ]
  },
  {
   "cell_type": "markdown",
   "id": "3179e5c2",
   "metadata": {},
   "source": [
    "## Finalize Model"
   ]
  },
  {
   "cell_type": "code",
   "execution_count": 103,
   "id": "8395f1f5",
   "metadata": {},
   "outputs": [],
   "source": [
    "from pandas import read_csv\n",
    "from statsmodels.tsa.arima.model import ARIMA\n",
    "from scipy.stats import boxcox\n",
    "import numpy\n",
    "# load data\n",
    "series = read_csv('dataset.csv', header=None, index_col=0, parse_dates=True).squeeze()\n",
    "# prepare data\n",
    "X = series.values\n",
    "X = X.astype('float32')\n",
    "# transform data\n",
    "transformed, lam = boxcox(X)\n",
    "# fit model\n",
    "model = ARIMA(transformed, order=best_cfg)\n",
    "model_fit = model.fit()\n",
    "# save model\n",
    "model_fit.save('model.pkl')\n",
    "numpy.save('model_lambda.npy', [lam])"
   ]
  },
  {
   "cell_type": "markdown",
   "id": "202ee729",
   "metadata": {},
   "source": [
    "##  Make Prediction"
   ]
  },
  {
   "cell_type": "markdown",
   "id": "ffa80c03",
   "metadata": {},
   "source": [
    "A natural case may be to load the model and make a single forecast. This is relatively straight-\n",
    "forward and involves restoring the saved model and the lambda and calling the forecast()\n",
    "\n",
    "function. The example below loads the model, makes a prediction for the next time step, inverses\n",
    "the Box-Cox transform, and prints the prediction."
   ]
  },
  {
   "cell_type": "code",
   "execution_count": 104,
   "id": "5b440b61",
   "metadata": {},
   "outputs": [
    {
     "name": "stdout",
     "output_type": "stream",
     "text": [
      "Predicted: 344.259\n"
     ]
    }
   ],
   "source": [
    "from statsmodels.tsa.arima.model import ARIMAResults\n",
    "model_fit = ARIMAResults.load('model.pkl')\n",
    "lam = numpy.load('model_lambda.npy')\n",
    "yhat = model_fit.forecast()[0]\n",
    "yhat = boxcox_inverse(yhat,lam)\n",
    "print('Predicted: %.3f' % yhat)"
   ]
  },
  {
   "cell_type": "markdown",
   "id": "bdd1945d",
   "metadata": {},
   "source": [
    "## Validate Model"
   ]
  },
  {
   "cell_type": "code",
   "execution_count": 105,
   "id": "8f703a2e",
   "metadata": {},
   "outputs": [
    {
     "name": "stdout",
     "output_type": "stream",
     "text": [
      "[360. 342. 406. 396. 420. 472. 548. 559. 463. 407. 362. 405. 417. 391.\n",
      " 419. 461. 472. 535. 622. 606. 508. 461. 390. 432.]\n",
      ">Predicted=344.259, Expected=360.000\n",
      ">Predicted=327.912, Expected=342.000\n",
      ">Predicted=381.025, Expected=406.000\n",
      ">Predicted=384.460, Expected=396.000\n",
      ">Predicted=407.968, Expected=420.000\n",
      ">Predicted=489.410, Expected=472.000\n",
      ">Predicted=529.314, Expected=548.000\n",
      ">Predicted=548.597, Expected=559.000\n",
      ">Predicted=456.008, Expected=463.000\n",
      ">Predicted=408.666, Expected=407.000\n",
      ">Predicted=352.739, Expected=362.000\n",
      ">Predicted=388.199, Expected=405.000\n",
      ">Predicted=422.814, Expected=417.000\n",
      ">Predicted=400.509, Expected=391.000\n",
      ">Predicted=446.445, Expected=419.000\n",
      ">Predicted=422.822, Expected=461.000\n",
      ">Predicted=479.155, Expected=472.000\n",
      ">Predicted=537.257, Expected=535.000\n",
      ">Predicted=608.886, Expected=622.000\n",
      ">Predicted=618.675, Expected=606.000\n",
      ">Predicted=522.161, Expected=508.000\n",
      ">Predicted=441.153, Expected=461.000\n",
      ">Predicted=415.650, Expected=390.000\n",
      ">Predicted=437.183, Expected=432.000\n",
      "RMSE: 16.496\n"
     ]
    },
    {
     "data": {
      "image/png": "[encoded data removed]",
      "text/plain": [
       "<Figure size 640x480 with 1 Axes>"
      ]
     },
     "metadata": {},
     "output_type": "display_data"
    }
   ],
   "source": [
    "# load and prepare datasets\n",
    "dataset = read_csv('dataset.csv', header=None, index_col=0, parse_dates=True).squeeze()\n",
    "X = dataset.values.astype('float32')\n",
    "history = [x for x in X]\n",
    "validation = read_csv('validation.csv', header=None, index_col=0, parse_dates=True).squeeze()\n",
    "\n",
    "y = validation.values.astype('float32')\n",
    "print(y)\n",
    "# load model\n",
    "model_fit = ARIMAResults.load('model.pkl')\n",
    "lam = numpy.load('model_lambda.npy')\n",
    "# make first prediction\n",
    "predictions = list()\n",
    "yhat = model_fit.forecast()[0]\n",
    "yhat = boxcox_inverse(yhat, lam)\n",
    "predictions.append(yhat)\n",
    "history.append(y[0])\n",
    "print('>Predicted=%.3f, Expected=%.3f' % (yhat, y[0]))\n",
    "# rolling forecasts\n",
    "for i in range(1, len(y)):\n",
    "    # transform\n",
    "    transformed,lam = boxcox(history)\n",
    "    # predict\n",
    "    model = ARIMA(transformed, order=best_cfg)\n",
    "    model_fit = model.fit()\n",
    "    yhat = model_fit.forecast()[0]\n",
    "    # invert transformed prediction\n",
    "    yhat = boxcox_inverse(yhat,lam)\n",
    "    predictions.append(yhat)\n",
    "    # observation\n",
    "    obs = y[i]\n",
    "    history.append(obs)\n",
    "    print('>Predicted=%.3f, Expected=%.3f' % (yhat, obs))\n",
    "# report performance\n",
    "rmse = sqrt(mean_squared_error(y,predictions))\n",
    "print('RMSE: %.3f' % rmse)\n",
    "pyplot.plot(y)\n",
    "pyplot.plot(predictions, color='red')\n",
    "pyplot.show()"
   ]
  }
 ],
 "metadata": {
  "kernelspec": {
   "display_name": "Python 3 (ipykernel)",
   "language": "python",
   "name": "python3"
  },
  "language_info": {
   "codemirror_mode": {
    "name": "ipython",
    "version": 3
   },
   "file_extension": ".py",
   "mimetype": "text/x-python",
   "name": "python",
   "nbconvert_exporter": "python",
   "pygments_lexer": "ipython3",
   "version": "3.11.5"
  }
 },
 "nbformat": 4,
 "nbformat_minor": 5
}
